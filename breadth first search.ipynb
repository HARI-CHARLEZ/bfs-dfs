{
 "cells": [
  {
   "cell_type": "code",
   "execution_count": 39,
   "id": "750a988d-08d7-406d-a729-39315a8680f7",
   "metadata": {},
   "outputs": [],
   "source": [
    "graph={\n",
    "    'Start':['A','B'],\n",
    "    'A':['Start','E','F'],\n",
    "    'B':['Start','D','C'],\n",
    "    'C':['B'],\n",
    "    'D':['B','Goal'],\n",
    "    'E':['B','G'],\n",
    "    'F':['B'],\n",
    "    'G':['E'],\n",
    "    'Goal':['E','F']\n",
    "}    "
   ]
  },
  {
   "cell_type": "code",
   "execution_count": 40,
   "id": "a21a7fd4-d8d6-4c71-9a25-98c2545d390a",
   "metadata": {},
   "outputs": [
    {
     "name": "stdout",
     "output_type": "stream",
     "text": [
      "{'Start': ['A', 'B'], 'A': ['Start', 'E', 'F'], 'B': ['Start', 'D', 'C'], 'C': ['B'], 'D': ['B', 'Goal'], 'E': ['B', 'G'], 'F': ['B'], 'G': ['E'], 'Goal': ['E', 'F']}\n"
     ]
    }
   ],
   "source": [
    "print(graph)"
   ]
  },
  {
   "cell_type": "markdown",
   "id": "9498e0c5-4137-4b4f-aa43-e5d440213e88",
   "metadata": {},
   "source": [
    "handling queue in python"
   ]
  },
  {
   "cell_type": "code",
   "execution_count": 4,
   "id": "60aa6e74-68a1-4942-a3a1-2ac7405baae6",
   "metadata": {},
   "outputs": [],
   "source": [
    "from collections import deque"
   ]
  },
  {
   "cell_type": "code",
   "execution_count": 5,
   "id": "389aabc8-fa51-43f5-bd6d-3fd90f40113e",
   "metadata": {},
   "outputs": [],
   "source": [
    "Q=deque([\"a\",\"b\",\"c\",\"d\",\"e\"])"
   ]
  },
  {
   "cell_type": "code",
   "execution_count": 6,
   "id": "835102ed-ed5e-4188-81fb-757e57fc6910",
   "metadata": {},
   "outputs": [],
   "source": [
    "Q.appendleft(\"5\")"
   ]
  },
  {
   "cell_type": "code",
   "execution_count": 8,
   "id": "da70f8e8-f224-4c31-ac90-8c72e34db14d",
   "metadata": {},
   "outputs": [
    {
     "data": {
      "text/plain": [
       "deque(['5', 'a', 'b', 'c', 'd', 'e'])"
      ]
     },
     "execution_count": 8,
     "metadata": {},
     "output_type": "execute_result"
    }
   ],
   "source": [
    "Q"
   ]
  },
  {
   "cell_type": "code",
   "execution_count": 9,
   "id": "90f5405d-11ef-4bdd-b781-10edba2497ac",
   "metadata": {},
   "outputs": [],
   "source": [
    "Q.append(\"3\")"
   ]
  },
  {
   "cell_type": "code",
   "execution_count": 10,
   "id": "149cb2b0-2572-4da9-802a-d9bfe0683255",
   "metadata": {},
   "outputs": [
    {
     "data": {
      "text/plain": [
       "deque(['5', 'a', 'b', 'c', 'd', 'e', '3'])"
      ]
     },
     "execution_count": 10,
     "metadata": {},
     "output_type": "execute_result"
    }
   ],
   "source": [
    "Q"
   ]
  },
  {
   "cell_type": "code",
   "execution_count": 17,
   "id": "d818e94b-729f-41c3-ac40-73a52eacd696",
   "metadata": {},
   "outputs": [
    {
     "data": {
      "text/plain": [
       "'5'"
      ]
     },
     "execution_count": 17,
     "metadata": {},
     "output_type": "execute_result"
    }
   ],
   "source": [
    "Q.popleft()"
   ]
  },
  {
   "cell_type": "code",
   "execution_count": 18,
   "id": "faf552b4-1ac5-4593-a9f4-50680ed55898",
   "metadata": {
    "scrolled": true
   },
   "outputs": [
    {
     "data": {
      "text/plain": [
       "deque(['a', 'b', 'c', 'd', 'e'])"
      ]
     },
     "execution_count": 18,
     "metadata": {},
     "output_type": "execute_result"
    }
   ],
   "source": [
    "Q"
   ]
  },
  {
   "cell_type": "code",
   "execution_count": 23,
   "id": "f3ad0806-f1b6-47e1-99d7-8ee44a76cd2a",
   "metadata": {},
   "outputs": [
    {
     "data": {
      "text/plain": [
       "'e'"
      ]
     },
     "execution_count": 23,
     "metadata": {},
     "output_type": "execute_result"
    }
   ],
   "source": [
    "Q[4]"
   ]
  },
  {
   "cell_type": "code",
   "execution_count": 34,
   "id": "2f846054-ce5f-406a-ab4f-a88d6c249656",
   "metadata": {},
   "outputs": [],
   "source": [
    "from collections import deque\n",
    "def bfs(graph,start,goal):\n",
    "    visited=[]\n",
    "    queue=deque([start])\n",
    "    while queue:\n",
    "        node=queue.popleft()\n",
    "        if node not in visited:\n",
    "            visited.append(node)\n",
    "            print(\"I have visited:\",node)\n",
    "            neighbours=graph[node]\n",
    "            if node==goal:\n",
    "                return(\"i have reached the goal, this is my traversed path\")\n",
    "            for neighbour in neighbours:\n",
    "                queue.append(neighbour)"
   ]
  },
  {
   "cell_type": "code",
   "execution_count": 42,
   "id": "14a2e785-a05a-44fd-b0e2-58690141286b",
   "metadata": {},
   "outputs": [
    {
     "name": "stdout",
     "output_type": "stream",
     "text": [
      "I have visited: Start\n",
      "I have visited: A\n",
      "I have visited: B\n",
      "I have visited: E\n",
      "I have visited: F\n",
      "I have visited: D\n",
      "I have visited: C\n",
      "I have visited: G\n",
      "I have visited: Goal\n"
     ]
    },
    {
     "data": {
      "text/plain": [
       "'i have reached the goal, this is my traversed path'"
      ]
     },
     "execution_count": 42,
     "metadata": {},
     "output_type": "execute_result"
    }
   ],
   "source": [
    "bfs(graph,'Start','Goal')"
   ]
  },
  {
   "cell_type": "code",
   "execution_count": null,
   "id": "4822a7e6-bdfc-4727-a16a-acfa8f02816c",
   "metadata": {},
   "outputs": [],
   "source": []
  }
 ],
 "metadata": {
  "kernelspec": {
   "display_name": "Python 3 (ipykernel)",
   "language": "python",
   "name": "python3"
  },
  "language_info": {
   "codemirror_mode": {
    "name": "ipython",
    "version": 3
   },
   "file_extension": ".py",
   "mimetype": "text/x-python",
   "name": "python",
   "nbconvert_exporter": "python",
   "pygments_lexer": "ipython3",
   "version": "3.9.18"
  }
 },
 "nbformat": 4,
 "nbformat_minor": 5
}
