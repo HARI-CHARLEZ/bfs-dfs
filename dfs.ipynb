{
 "cells": [
  {
   "cell_type": "code",
   "execution_count": 2,
   "id": "e76ab725-72c4-4e16-9639-d08ba69ec824",
   "metadata": {},
   "outputs": [],
   "source": [
    "graph={\n",
    "    'Start':['A','B'],\n",
    "    'A':['Start','E','F'],\n",
    "    'B':['Start','D','C'],\n",
    "    'C':['B'],\n",
    "    'D':['B','Goal'],\n",
    "    'E':['B','G'],\n",
    "    'F':['B'],\n",
    "    'G':['E'],\n",
    "    'Goal':['E','F']\n",
    "}    "
   ]
  },
  {
   "cell_type": "code",
   "execution_count": 3,
   "id": "f21922d7-3522-4b4e-a5bb-fb894159442d",
   "metadata": {},
   "outputs": [],
   "source": [
    "def dfs(graph,start,goal,visited):\n",
    "    stack=([start])\n",
    "    while stack:\n",
    "        node=stack.pop()\n",
    "        if node not in visited:\n",
    "            visited.append(node)\n",
    "            if node==goal:\n",
    "               print(visited)\n",
    "            for neighbour in graph[node]:\n",
    "                dfs(graph,neighbour,goal,visited)"
   ]
  },
  {
   "cell_type": "code",
   "execution_count": 4,
   "id": "27e9c9f6-7d0c-4ae2-837a-3e33252b8144",
   "metadata": {},
   "outputs": [
    {
     "name": "stdout",
     "output_type": "stream",
     "text": [
      "['A', 'Start', 'B']\n"
     ]
    }
   ],
   "source": [
    " dfs(graph,'A','B',[])"
   ]
  },
  {
   "cell_type": "code",
   "execution_count": null,
   "id": "8261fa66-4850-491e-bfa0-9e813b85e085",
   "metadata": {},
   "outputs": [],
   "source": []
  }
 ],
 "metadata": {
  "kernelspec": {
   "display_name": "Python 3 (ipykernel)",
   "language": "python",
   "name": "python3"
  },
  "language_info": {
   "codemirror_mode": {
    "name": "ipython",
    "version": 3
   },
   "file_extension": ".py",
   "mimetype": "text/x-python",
   "name": "python",
   "nbconvert_exporter": "python",
   "pygments_lexer": "ipython3",
   "version": "3.9.18"
  }
 },
 "nbformat": 4,
 "nbformat_minor": 5
}
